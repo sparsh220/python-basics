{
  "nbformat": 4,
  "nbformat_minor": 0,
  "metadata": {
    "colab": {
      "provenance": []
    },
    "kernelspec": {
      "name": "python3",
      "display_name": "Python 3"
    },
    "language_info": {
      "name": "python"
    }
  },
  "cells": [
    {
      "cell_type": "markdown",
      "source": [
        "# python basic  question"
      ],
      "metadata": {
        "id": "dYCOBM8_8qzm"
      }
    },
    {
      "cell_type": "markdown",
      "source": [
        "###Q 1 :  What is Python, and why is it popular ?\n",
        "\n",
        "ans :  python is a general purpose and powerful programming language.\n",
        "it is popular because:\n",
        "* it is free and open source\n",
        "* it is most versatile\n",
        "* it is simple and easy to learn\n",
        "* it is dynamically typed\n",
        "\n",
        "\n",
        "###Q2: What is an interpreter in Python?\n",
        "\n",
        "ans: interpreter in python helps to executes the code line by line during runtime.\n",
        "\n",
        "###Q 3: What are pre-defined keywords in Python ?\n",
        "\n",
        "ans: predefined words are reserved keywords in python and each keyword has a special meaning and  have specific purpose.\n",
        "\n",
        "\n",
        "###Q 4 :Can keywords be used as variable names ?\n",
        "\n",
        "ans: no, keywords can't be used as a variable name. kewords are predefined words in python.\n",
        "\n",
        "###Q 5: What is mutability in Python\n",
        "\n",
        "ans: objects/container whose state or value can be changed after they created are called mutability. inshort in we can edit or change the values.\n",
        "\n",
        "\n",
        "###Q 6 : Why are lists mutable, but tuples are immutable ?\n",
        "\n",
        "ans: lists are mutable because values inside list can be edit or change after the code run while tuples are imutable becuase values can be changed or edit.\n",
        "\n",
        "\n",
        "###Q 7:What is the difference between “==” and “is” operators in Python?\n",
        "\n",
        "ans: \"==\" is assignment operator and it is used to check if values are equal wheras \"is\"  an identity operator and it is used to check if both are same object.\n",
        "\n",
        "###Q 8: What are logical operators in Python?\n",
        "\n",
        "ans: 'and, or, not' are logical operators in python.\n",
        "* and :-  retuurns true if both conditions are true\n",
        "*  or :-  returns true if any one condition is true.\n",
        "*  not :-  reverse the condition.\n",
        "\n",
        "###Q 9: What is type casting in Python?\n",
        "\n",
        "ans: Type casting means changing one data type to another\n",
        " example - str to int\n",
        "\n",
        "\n",
        "###Q 10: What is the difference between implicit and explicit type casting ?\n",
        "\n",
        "* implicit type casting - changing one data type to another automatically\n",
        "( python coverts the type itself)\n",
        "* explicit type casting - changing one data type to another manually.\n",
        "\n",
        "\n",
        "###Q 11: What is the purpose of conditional statements in Python?\n",
        "\n",
        "ans: conditional statements act on depending on whether given condition is true or false.\n",
        "\n",
        "###Q 12: How does the elif statement work?\n",
        "\n",
        "ans:  \"elif means else if \" , it is used when when we have more than one condition to check .\n",
        "\n",
        "###Q 13: What is the difference between for and while loops?\n",
        "\n",
        "ans: loop allows you to execute a block of code repeatedly.\n",
        "* for loop :- for loop iterates over a sequence of elements.\n",
        "* while loop :-  while loop repeatedly executed a block of code until a condition is met\n",
        "\n",
        "###Q 14: Describe a scenario where a while loop is more suitable than a for loop?\n",
        "\n",
        "ans: while loop is more suitable than a for loop in creating a passowrd.\n",
        "in that case you don't know how many times the user will enter the wrong password, so you can't use a for loop .you need a loop that runs untill the correct password is entered .  \n"
      ],
      "metadata": {
        "id": "a-40s3oaXUz1"
      }
    },
    {
      "cell_type": "markdown",
      "source": [],
      "metadata": {
        "id": "RL3UAQQqclYC"
      }
    },
    {
      "cell_type": "markdown",
      "source": [
        "# ** practical question**"
      ],
      "metadata": {
        "id": "QQ-Rsg2Scpr2"
      }
    },
    {
      "cell_type": "code",
      "source": [
        "# Q 1: Write a Python program to print \"Hello, World!\"\n",
        "\n",
        "print(\"Hello, World!\")\n"
      ],
      "metadata": {
        "colab": {
          "base_uri": "https://localhost:8080/"
        },
        "id": "ZdOV8tOYctyy",
        "outputId": "45806871-a2bf-400e-da14-fb47fa7fbef0"
      },
      "execution_count": null,
      "outputs": [
        {
          "output_type": "stream",
          "name": "stdout",
          "text": [
            "Hello, World!\n"
          ]
        }
      ]
    },
    {
      "cell_type": "code",
      "source": [
        "# Q 2 : Write a Python program that displays your name and age\n",
        "\n",
        "name = \"sparsh\"\n",
        "age = 20\n",
        "print(name)\n",
        "print(age)"
      ],
      "metadata": {
        "colab": {
          "base_uri": "https://localhost:8080/"
        },
        "id": "q84ZAYXvdrN6",
        "outputId": "5261fc8f-41b6-4b70-c599-bf07b1e8f48e"
      },
      "execution_count": null,
      "outputs": [
        {
          "output_type": "stream",
          "name": "stdout",
          "text": [
            "sparsh\n",
            "20\n"
          ]
        }
      ]
    },
    {
      "cell_type": "code",
      "source": [
        "# Q 3 : Write code to print all the pre-defined keywords in Python using the keyword library\n",
        "\n",
        "help('keywords')"
      ],
      "metadata": {
        "colab": {
          "base_uri": "https://localhost:8080/"
        },
        "id": "3VIStFXtdSyL",
        "outputId": "b5005bfa-303b-409b-e4bd-0e817b71ecfb"
      },
      "execution_count": null,
      "outputs": [
        {
          "output_type": "stream",
          "name": "stdout",
          "text": [
            "\n",
            "Here is a list of the Python keywords.  Enter any keyword to get more help.\n",
            "\n",
            "False               class               from                or\n",
            "None                continue            global              pass\n",
            "True                def                 if                  raise\n",
            "and                 del                 import              return\n",
            "as                  elif                in                  try\n",
            "assert              else                is                  while\n",
            "async               except              lambda              with\n",
            "await               finally             nonlocal            yield\n",
            "break               for                 not                 \n",
            "\n"
          ]
        }
      ]
    },
    {
      "cell_type": "code",
      "source": [
        "# Q 4: write a program that checks if a given word is a Python keyword\n",
        "\n",
        "import keyword\n",
        "a = input(\"enter a word : \")\n",
        "if keyword.iskeyword(a):\n",
        "  print(\"it is a keyword\")\n",
        "else:\n",
        "  print(\"it is not a keyword\")\n"
      ],
      "metadata": {
        "colab": {
          "base_uri": "https://localhost:8080/"
        },
        "id": "mKlwSALmYMPR",
        "outputId": "f868d830-3c2b-4093-c9ce-6404af81982b"
      },
      "execution_count": null,
      "outputs": [
        {
          "output_type": "stream",
          "name": "stdout",
          "text": [
            "enter a word : for\n",
            "it is a keyword\n"
          ]
        }
      ]
    },
    {
      "cell_type": "code",
      "source": [
        "# Q5. Create a list and tuple in Python, and demonstrate how attempting to change an element works differently\n",
        "\n",
        "# creating a list (mutable)\n",
        "# it will not show error\n",
        "my_list = [1, 2, 3, 4, 5]\n",
        "print(my_list)\n",
        "my_list[2] = 10\n",
        "print(my_list)\n",
        "\n",
        "# creating a tuple (immutable)\n",
        "# it will show error\n",
        "my_tuple = (1, 2, 3, 4, 5)\n",
        "print(my_tuple)\n",
        "my_tuple[2] = 10\n",
        "print(my_tuple)"
      ],
      "metadata": {
        "colab": {
          "base_uri": "https://localhost:8080/",
          "height": 245
        },
        "id": "5XoHmwZOlExO",
        "outputId": "122ca988-e111-40f3-b6a6-98b2e51cbd30"
      },
      "execution_count": null,
      "outputs": [
        {
          "output_type": "stream",
          "name": "stdout",
          "text": [
            "[1, 2, 3, 4, 5]\n",
            "[1, 2, 10, 4, 5]\n",
            "(1, 2, 3, 4, 5)\n"
          ]
        },
        {
          "output_type": "error",
          "ename": "TypeError",
          "evalue": "'tuple' object does not support item assignment",
          "traceback": [
            "\u001b[0;31m---------------------------------------------------------------------------\u001b[0m",
            "\u001b[0;31mTypeError\u001b[0m                                 Traceback (most recent call last)",
            "\u001b[0;32m/tmp/ipython-input-6-2999828991.py\u001b[0m in \u001b[0;36m<cell line: 0>\u001b[0;34m()\u001b[0m\n\u001b[1;32m     12\u001b[0m \u001b[0mmy_tuple\u001b[0m \u001b[0;34m=\u001b[0m \u001b[0;34m(\u001b[0m\u001b[0;36m1\u001b[0m\u001b[0;34m,\u001b[0m \u001b[0;36m2\u001b[0m\u001b[0;34m,\u001b[0m \u001b[0;36m3\u001b[0m\u001b[0;34m,\u001b[0m \u001b[0;36m4\u001b[0m\u001b[0;34m,\u001b[0m \u001b[0;36m5\u001b[0m\u001b[0;34m)\u001b[0m\u001b[0;34m\u001b[0m\u001b[0;34m\u001b[0m\u001b[0m\n\u001b[1;32m     13\u001b[0m \u001b[0mprint\u001b[0m\u001b[0;34m(\u001b[0m\u001b[0mmy_tuple\u001b[0m\u001b[0;34m)\u001b[0m\u001b[0;34m\u001b[0m\u001b[0;34m\u001b[0m\u001b[0m\n\u001b[0;32m---> 14\u001b[0;31m \u001b[0mmy_tuple\u001b[0m\u001b[0;34m[\u001b[0m\u001b[0;36m2\u001b[0m\u001b[0;34m]\u001b[0m \u001b[0;34m=\u001b[0m \u001b[0;36m10\u001b[0m\u001b[0;34m\u001b[0m\u001b[0;34m\u001b[0m\u001b[0m\n\u001b[0m\u001b[1;32m     15\u001b[0m \u001b[0mprint\u001b[0m\u001b[0;34m(\u001b[0m\u001b[0mmy_tuple\u001b[0m\u001b[0;34m)\u001b[0m\u001b[0;34m\u001b[0m\u001b[0;34m\u001b[0m\u001b[0m\n",
            "\u001b[0;31mTypeError\u001b[0m: 'tuple' object does not support item assignment"
          ]
        }
      ]
    },
    {
      "cell_type": "code",
      "source": [
        "# Q6  Write a function to demonstrate the behavior of mutable and immutable arguments\n",
        "## example of mutable:\n",
        "\n",
        "a = [\"apple\",\"cherry\", \"guava\", \"monkey\", \"kiwi\"]\n",
        "a[3] = \"orange\"\n",
        "print(a)\n",
        "\n",
        "## example of immutable\n",
        "\n",
        "b = (\"apple\",\"cherry\", \"guava\", \"monkey\", \"kiwi\")\n",
        "b[3] = \"orange\"\n",
        "\n",
        "## hence tuple is immutable and we cannot change the elements once created"
      ],
      "metadata": {
        "id": "CLk2ekwVY5o7",
        "colab": {
          "base_uri": "https://localhost:8080/",
          "height": 193
        },
        "outputId": "f92519eb-f6be-4adf-b328-3e07d02143b7"
      },
      "execution_count": null,
      "outputs": [
        {
          "output_type": "stream",
          "name": "stdout",
          "text": [
            "['apple', 'cherry', 'guava', 'orange', 'kiwi']\n"
          ]
        },
        {
          "output_type": "error",
          "ename": "TypeError",
          "evalue": "'tuple' object does not support item assignment",
          "traceback": [
            "\u001b[0;31m---------------------------------------------------------------------------\u001b[0m",
            "\u001b[0;31mTypeError\u001b[0m                                 Traceback (most recent call last)",
            "\u001b[0;32m/tmp/ipython-input-3-3408980624.py\u001b[0m in \u001b[0;36m<cell line: 0>\u001b[0;34m()\u001b[0m\n\u001b[1;32m      8\u001b[0m \u001b[0;34m\u001b[0m\u001b[0m\n\u001b[1;32m      9\u001b[0m \u001b[0mb\u001b[0m \u001b[0;34m=\u001b[0m \u001b[0;34m(\u001b[0m\u001b[0;34m\"apple\"\u001b[0m\u001b[0;34m,\u001b[0m\u001b[0;34m\"cherry\"\u001b[0m\u001b[0;34m,\u001b[0m \u001b[0;34m\"guava\"\u001b[0m\u001b[0;34m,\u001b[0m \u001b[0;34m\"monkey\"\u001b[0m\u001b[0;34m,\u001b[0m \u001b[0;34m\"kiwi\"\u001b[0m\u001b[0;34m)\u001b[0m\u001b[0;34m\u001b[0m\u001b[0;34m\u001b[0m\u001b[0m\n\u001b[0;32m---> 10\u001b[0;31m \u001b[0mb\u001b[0m\u001b[0;34m[\u001b[0m\u001b[0;36m3\u001b[0m\u001b[0;34m]\u001b[0m \u001b[0;34m=\u001b[0m \u001b[0;34m\"orange\"\u001b[0m\u001b[0;34m\u001b[0m\u001b[0;34m\u001b[0m\u001b[0m\n\u001b[0m",
            "\u001b[0;31mTypeError\u001b[0m: 'tuple' object does not support item assignment"
          ]
        }
      ]
    },
    {
      "cell_type": "code",
      "source": [
        "# Q 7:  Write a program that performs basic arithmetic operations on two user-input numbers.\n",
        "\n",
        "num1 = int((input(\"enter first number :\")))\n",
        "num2 = int((input(\"enter second number :\")))\n",
        "print(num1 + num2)\n",
        "print(num1 - num2)\n",
        "print(num1 * num2)\n",
        "print(num1 / num2)\n"
      ],
      "metadata": {
        "colab": {
          "base_uri": "https://localhost:8080/"
        },
        "id": "MWg768Nrj0au",
        "outputId": "3d0fce17-1bb3-4716-92a8-0ff6dda866f7"
      },
      "execution_count": null,
      "outputs": [
        {
          "output_type": "stream",
          "name": "stdout",
          "text": [
            "enter first number :20\n",
            "enter second number :10\n",
            "30\n",
            "10\n",
            "200\n",
            "2.0\n"
          ]
        }
      ]
    },
    {
      "cell_type": "code",
      "source": [
        "# Q8. Write a program to demonstrate the use of logical operators\n",
        "# logical operatos are of three types:- and , or , not.\n",
        "# 1: and  ( true if both condition is true)\n",
        "x = 10\n",
        "print(x>0 and x<=10)\n",
        "\n",
        "# 2: or ( true if only one conditionis true)\n",
        "print(x>0 or x<5)\n",
        "\n",
        "# not (reverse the condition)\n",
        "print(not(x == 10))\n",
        "\n"
      ],
      "metadata": {
        "id": "ibxFR8edo0V9",
        "colab": {
          "base_uri": "https://localhost:8080/"
        },
        "outputId": "69f17a63-4f81-4ffc-87f7-572beb0553a9"
      },
      "execution_count": null,
      "outputs": [
        {
          "output_type": "stream",
          "name": "stdout",
          "text": [
            "True\n",
            "True\n",
            "False\n"
          ]
        }
      ]
    },
    {
      "cell_type": "code",
      "source": [
        "# Q9. Write a Python program to convert user input from string to integer, float, and boolean types.\n",
        "\n",
        "a = input(\"enter your age  \")\n",
        "print(type(a))\n",
        "\n",
        "# covert to int\n",
        "a_int = int(a)\n",
        "print(type(a_int))\n",
        "\n",
        "# convert to float\n",
        "a_float = float(a)\n",
        "print(type(a_float))\n",
        "\n",
        "# convert to boolean\n",
        "a_bool = bool(a)\n",
        "print(type(a_bool))\n",
        "\n",
        "\n"
      ],
      "metadata": {
        "colab": {
          "base_uri": "https://localhost:8080/"
        },
        "id": "YKFZ66PCpNTZ",
        "outputId": "769fa491-71e3-4d81-8331-d06d224cb9ce"
      },
      "execution_count": null,
      "outputs": [
        {
          "output_type": "stream",
          "name": "stdout",
          "text": [
            "enter your age  20\n",
            "<class 'str'>\n",
            "<class 'int'>\n",
            "<class 'float'>\n",
            "<class 'bool'>\n"
          ]
        }
      ]
    },
    {
      "cell_type": "code",
      "source": [
        "# Q10. Write code to demonstrate type casting with list elements.\n",
        "list = [\"1\", \"2\", \"3\"]\n"
      ],
      "metadata": {
        "id": "C3BDq8SfqrTs"
      },
      "execution_count": null,
      "outputs": []
    },
    {
      "cell_type": "code",
      "source": [
        "# Q11. Write a program that checks if a number is positive, negative, or zero\n",
        "num1 = int(input(\" enter a number  \"))\n",
        "if num1 > 0:\n",
        "  print(\"number is positive\")\n",
        "elif num1 < 0:\n",
        "  print( \"number is negative\")\n",
        "else:\n",
        "  print(\"number is zero\")\n",
        "\n",
        "\n"
      ],
      "metadata": {
        "id": "LgQMfFIZq2_T",
        "colab": {
          "base_uri": "https://localhost:8080/"
        },
        "outputId": "9a42f632-d835-4eed-88b8-c805d45e31b1"
      },
      "execution_count": null,
      "outputs": [
        {
          "output_type": "stream",
          "name": "stdout",
          "text": [
            " enter a number  0\n",
            "number is zero\n"
          ]
        }
      ]
    },
    {
      "cell_type": "code",
      "source": [
        "# Q12. Write a for loop to print numbers from 1 to 10.\n",
        "for i in range(1,11):\n",
        "  print(i)\n",
        "\n"
      ],
      "metadata": {
        "id": "_-AdGaDPrAP2",
        "colab": {
          "base_uri": "https://localhost:8080/"
        },
        "outputId": "88820327-cfd0-4326-baaa-a9228c455b54"
      },
      "execution_count": null,
      "outputs": [
        {
          "output_type": "stream",
          "name": "stdout",
          "text": [
            "1\n",
            "2\n",
            "3\n",
            "4\n",
            "5\n",
            "6\n",
            "7\n",
            "8\n",
            "9\n",
            "10\n"
          ]
        }
      ]
    },
    {
      "cell_type": "code",
      "source": [
        "# Q13. Write a Python program to find the sum of all even numbers between 1 and 50.\n",
        "total = 0\n",
        "for i in range(1,51):\n",
        "  if i%2 == 0:\n",
        "    total += i\n",
        "    print(total)\n",
        "\n"
      ],
      "metadata": {
        "id": "y_tGbUuvwqgG",
        "colab": {
          "base_uri": "https://localhost:8080/"
        },
        "outputId": "55263d9f-f372-457e-bfa2-f1474f753c16"
      },
      "execution_count": null,
      "outputs": [
        {
          "output_type": "stream",
          "name": "stdout",
          "text": [
            "2\n",
            "6\n",
            "12\n",
            "20\n",
            "30\n",
            "42\n",
            "56\n",
            "72\n",
            "90\n",
            "110\n",
            "132\n",
            "156\n",
            "182\n",
            "210\n",
            "240\n",
            "272\n",
            "306\n",
            "342\n",
            "380\n",
            "420\n",
            "462\n",
            "506\n",
            "552\n",
            "600\n",
            "650\n"
          ]
        }
      ]
    },
    {
      "cell_type": "code",
      "source": [
        "#  Q14. Write a program to reverse a string using a while loop.\n",
        "text = \"hello world\"\n",
        "reversed_text = \"\"\n",
        "i = len(text)\n",
        "while i > 0:\n",
        "  reversed_text += text[i-1]\n",
        "  i -= 1\n",
        "print(reversed_text)\n"
      ],
      "metadata": {
        "id": "01xJ7X8qw1eq",
        "colab": {
          "base_uri": "https://localhost:8080/"
        },
        "outputId": "40548ea5-33f1-4aa0-e0f9-8d12efdd25b7"
      },
      "execution_count": null,
      "outputs": [
        {
          "output_type": "stream",
          "name": "stdout",
          "text": [
            "dlrow olleh\n"
          ]
        }
      ]
    },
    {
      "cell_type": "code",
      "source": [
        "#  Q15. Write a Python program to calculate the factorial of a number provided by the user using a while loop.\n",
        "num = int(input(\"enter a number : \"))\n",
        "factorial = 1\n",
        "i = 1\n",
        "while i <= num:\n",
        "  factorial *= i\n",
        "  i += 1\n",
        "print(factorial)\n"
      ],
      "metadata": {
        "id": "SgxBvrq1w9FO",
        "colab": {
          "base_uri": "https://localhost:8080/"
        },
        "outputId": "e9db1b24-f86b-4d94-cea0-e22d5c3e4277"
      },
      "execution_count": null,
      "outputs": [
        {
          "output_type": "stream",
          "name": "stdout",
          "text": [
            "enter a number : 5\n",
            "120\n"
          ]
        }
      ]
    }
  ]
}